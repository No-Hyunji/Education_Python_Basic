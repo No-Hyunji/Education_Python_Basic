{
 "cells": [
  {
   "cell_type": "markdown",
   "metadata": {},
   "source": [
    "## 학습목표\n",
    "- 반복문의 이해 및 활용 (While)"
   ]
  },
  {
   "cell_type": "markdown",
   "metadata": {},
   "source": [
    "### loop (반복문)\n",
    "+ 반복적인 작업을 가능하게 해주는 도구\n",
    "+ 특정 조건을 만족하는 경우 수행 할 수 있음 (while)\n",
    "+ 리스트. 문자열, 튜플 등 컬렉션 타입이나 아이템을 하나 씩 순회사면서 사용 가능 (for) \n",
    "+ 코드 작업에서, 가장 많이 사용하는 구문 중 하나\n",
    "+ 주의할 점 : while을 사용 할 경우, 반복을 멈추게 하는 장치가 필요\n",
    "    -  그렇지 않으면 셀이 무한히 수행되며, jypyter notebook의 재부팅이 필요"
   ]
  },
  {
   "cell_type": "markdown",
   "metadata": {},
   "source": [
    "#### while 키워드\n",
    " -  while뒤의 조건이 True일 경우, while코드 불록을 계속 수행\n",
    " - while코드 블록\n",
    " - if와 마찬가지로 while문 아래의 들여쓰기로 작성된 코드부분을 의미\n",
    " -조건이 False가 되면 블록 수행을 멈추고 이후 코드를 실행"
   ]
  },
  {
   "cell_type": "markdown",
   "metadata": {},
   "source": [
    "#### while 키워드 이용하여 리스트의 아이템 출력하기"
   ]
  },
  {
   "cell_type": "code",
   "execution_count": 4,
   "metadata": {},
   "outputs": [
    {
     "name": "stdout",
     "output_type": "stream",
     "text": [
      "value: 1 , index: 0\n",
      "value: 10 , index: 1\n",
      "value: 9 , index: 2\n",
      "value: 24 , index: 3\n",
      "hahaha\n"
     ]
    }
   ],
   "source": [
    "a = [1, 10, 9, 24]\n",
    "\n",
    "i = 0 #인덱스\n",
    "while i < len(a):\n",
    "    print('value:', a[i], ', index:', i)\n",
    "    i += 1\n",
    "    \n",
    "print('hahaha')"
   ]
  },
  {
   "cell_type": "markdown",
   "metadata": {},
   "source": [
    "#### while 키워드 이용하여 리스트의 아이템 출력하기\n",
    "- 조건문과 함께 사용하기\n"
   ]
  },
  {
   "cell_type": "code",
   "execution_count": null,
   "metadata": {},
   "outputs": [],
   "source": [
    "a = [ 1, 10, 9, 24, 25, 26]\n",
    "\n",
    "i = 0 #인덱스\n",
    "while i < len(a):\n",
    "    if a[i] > 20: #20보다 큰 경우만 출력하기\n",
    "        print(a[i])\n",
    "        i += 1\n"
   ]
  },
  {
   "cell_type": "markdown",
   "metadata": {},
   "source": [
    "#### break\n",
    "+ loop 를 중단 할때 사용\n",
    "+ 보통 조건문 안에서 수행\n",
    "+ loop를 중단 하는 경우 ,while"
   ]
  },
  {
   "cell_type": "code",
   "execution_count": null,
   "metadata": {},
   "outputs": [],
   "source": [
    "i = 0 \n",
    "while i < len(a):\n",
    "    if a[i] > 20: \n",
    "        break\n",
    "        print(a[i])\n",
    "        \n",
    "        i += 1\n",
    "\n",
    "print('hahaha')"
   ]
  },
  {
   "cell_type": "code",
   "execution_count": null,
   "metadata": {},
   "outputs": [],
   "source": [
    "# crawl() 메서드가 있다고 가정!!!!!(주의: 실행 안됨:)\n",
    "# crawl() > 호출 > return(수집한 데이터)\n",
    "# 수집해야하는 데이터 총 3개 ( A data, B data, C data)\n",
    "\n",
    "# 무한으로 계속 반복해서 작업하세요!\n",
    "while True:\n",
    "    data = crawl() #crawl()은 return으로 수집하려는 데이터를 반환\n",
    "    if data == None:\n",
    "        break\n",
    "        print(data)\n",
    "        \n",
    "# 출력 A data\n",
    "# 출력 B data\n",
    "# 출력 C data"
   ]
  },
  {
   "cell_type": "markdown",
   "metadata": {},
   "source": [
    "#### continue\n",
    " + break처럼 반복을 중단하여 빠져나오지 않고, 다시 while조건으로 점프함\n",
    " + 특정한 경우에는 코드를 수행하지 않고 다음으로 건너 뛰기 위해 사용\n",
    " "
   ]
  },
  {
   "cell_type": "code",
   "execution_count": null,
   "metadata": {},
   "outputs": [],
   "source": [
    "a = 7 \n",
    "while a>0:\n",
    "    a -= 1\n",
    "    if a == 5:\n",
    "        continue\n",
    "    print(a)"
   ]
  },
  {
   "cell_type": "markdown",
   "metadata": {},
   "source": [
    "### 1-100까지 더하기"
   ]
  },
  {
   "cell_type": "code",
   "execution_count": null,
   "metadata": {},
   "outputs": [],
   "source": [
    "num = 1 \n",
    "_sum = 0 \n",
    "\n",
    "while num <= 10:\n",
    "    _sum += num\n",
    "    num += 1\n",
    "    print(_sum, num)\n",
    "\n",
    "    \n",
    "print(_sum)"
   ]
  }
 ],
 "metadata": {
  "kernelspec": {
   "display_name": "Python 3",
   "language": "python",
   "name": "python3"
  },
  "language_info": {
   "codemirror_mode": {
    "name": "ipython",
    "version": 3
   },
   "file_extension": ".py",
   "mimetype": "text/x-python",
   "name": "python",
   "nbconvert_exporter": "python",
   "pygments_lexer": "ipython3",
   "version": "3.7.6"
  }
 },
 "nbformat": 4,
 "nbformat_minor": 4
}
